{
 "cells": [
  {
   "cell_type": "code",
   "execution_count": 11,
   "metadata": {},
   "outputs": [],
   "source": [
    "import numpy as np"
   ]
  },
  {
   "cell_type": "markdown",
   "metadata": {},
   "source": [
    "# Value Loss"
   ]
  },
  {
   "cell_type": "code",
   "execution_count": 25,
   "metadata": {},
   "outputs": [],
   "source": [
    "def r_gamma(rewards: np.array, gamma):\n",
    "    r_gamma = 0\n",
    "    for result in rewards[:0:-1]:  # Slicing to reverse except the first element\n",
    "        r_gamma = gamma * (r_gamma + result)\n",
    "    r_gamma += rewards[0]\n",
    "    return r_gamma\n",
    "\n",
    "\n",
    "def value_function(state): #TODO: implement this\n",
    "    return 160\n",
    "\n",
    "def value_loss(r_gamma, state, deltas):\n",
    "    return (np.clip(r_gamma, -deltas[1], deltas[2])-value_function(state))**2"
   ]
  },
  {
   "cell_type": "markdown",
   "metadata": {},
   "source": [
    "# Policy Loss"
   ]
  },
  {
   "cell_type": "code",
   "execution_count": 14,
   "metadata": {},
   "outputs": [],
   "source": [
    "def ratio(old_policy, new_policy, action, state):\n",
    "    return new_policy(action, state) / old_policy(action, state)\n",
    "\n",
    "def a_gae(results, states, value_function: callable, gamma, lambda_):\n",
    "    def a_k(k):\n",
    "        a_k = - value_function(states[0]) # First state of the hand\n",
    "        for i in range(k):\n",
    "            a_k += gamma**(i) * results[i]\n",
    "        a_k += gamma**(k) * value_function(states[k])\n",
    "        return a_k\n",
    "    a_ks = [lambda_**(k_minus_one) * a_k(k_minus_one+1) for k_minus_one in range(len(results)-2)]\n",
    "    return (1 - lambda_) * np.sum(a_ks)\n",
    "    \n",
    "def tc_loss_function(ratio, advantage, epsilon, deltas): #We compute this for every hand and then average it\n",
    "    return np.clip(ratio, np.clip(ratio, 1 - epsilon, 1 + epsilon), deltas[1]) * advantage\n",
    "    "
   ]
  },
  {
   "cell_type": "code",
   "execution_count": 26,
   "metadata": {},
   "outputs": [
    {
     "name": "stdout",
     "output_type": "stream",
     "text": [
      "298.92161882031996\n",
      "------------\n",
      "0.0\n"
     ]
    }
   ],
   "source": [
    "rewards = np.array([-20, 100, 0, -100, 320])\n",
    "deltas = [1, 160, 160]\n",
    "print(r_gamma(rewards, 0.999))\n",
    "print(\"------------\")\n",
    "print(value_loss(r_gamma(rewards, 0.999), 0, deltas))"
   ]
  },
  {
   "cell_type": "code",
   "execution_count": null,
   "metadata": {},
   "outputs": [],
   "source": [
    "import torch\n",
    "import torch.nn as nn\n",
    "import torch.nn.functional as F\n",
    "\n",
    "class ValueNetwork(nn.Module):\n",
    "    def __init__(self, nb=9, card_channels=6, action_channels=24):\n",
    "        super(ValueNetwork, self).__init__()\n",
    "        \n",
    "        # Convolution layers for card tensor\n",
    "        self.card_conv = nn.Sequential(\n",
    "            nn.Conv2d(card_channels, 32, kernel_size=3, stride=1, padding=1),\n",
    "            nn.ReLU(),\n",
    "            nn.Conv2d(32, 64, kernel_size=3, stride=1, padding=1),\n",
    "            nn.ReLU(),\n",
    "            nn.AdaptiveAvgPool2d((1, 1))  # reduce to a single feature vector\n",
    "        )\n",
    "        \n",
    "        # Convolution layers for action tensor\n",
    "        self.action_conv = nn.Sequential(\n",
    "            nn.Conv2d(action_channels, 32, kernel_size=3, stride=1, padding=1),\n",
    "            nn.ReLU(),\n",
    "            nn.Conv2d(32, 64, kernel_size=3, stride=1, padding=1),\n",
    "            nn.ReLU(),\n",
    "            nn.AdaptiveAvgPool2d((1, 1))\n",
    "        )\n",
    "        \n",
    "        # Fully connected layers after concatenation\n",
    "        # The output of card_conv and action_conv each is [batch, 64, 1, 1] => 64 features\n",
    "        self.fc = nn.Sequential(\n",
    "            nn.Linear(64 + 64, 128),\n",
    "            nn.ReLU(),\n",
    "            nn.Linear(128, 1)  # single scalar value\n",
    "        )\n",
    "    \n",
    "    def forward(self, card_tensor, action_tensor):\n",
    "        # card_tensor: [batch, 6, 4, 13]\n",
    "        # action_tensor: [batch, 24, 4, nb]\n",
    "        card_features = self.card_conv(card_tensor)       # [batch, 64, 1, 1]\n",
    "        action_features = self.action_conv(action_tensor) # [batch, 64, 1, 1]\n",
    "        \n",
    "        # Flatten\n",
    "        card_features = card_features.view(card_features.size(0), -1)\n",
    "        action_features = action_features.view(action_features.size(0), -1)\n",
    "        \n",
    "        # Concatenate and pass through FC\n",
    "        combined = torch.cat([card_features, action_features], dim=1)\n",
    "        value = self.fc(combined)\n",
    "        return value.squeeze(-1)  # [batch]\n",
    "\n",
    "# Example instantiation\n",
    "value_net = ValueNetwork(nb=9, card_channels=6, action_channels=24)\n",
    "\n",
    "# In your code, you'd replace this stub:\n",
    "def value_function(state):\n",
    "    # Extract card_tensor and action_tensor from state\n",
    "    # state is expected to have something like:\n",
    "    # state['card_tensor']: torch.FloatTensor of shape [1, 6, 4, 13]\n",
    "    # state['action_tensor']: torch.FloatTensor of shape [1, 24, 4, nb]\n",
    "    card_tensor = state['card_tensor']\n",
    "    action_tensor = state['action_tensor']\n",
    "    \n",
    "    # Forward pass\n",
    "    with torch.no_grad():\n",
    "        val = value_net(card_tensor, action_tensor)\n",
    "    return val.item()  # return as a scalar\n"
   ]
  }
 ],
 "metadata": {
  "kernelspec": {
   "display_name": "venv",
   "language": "python",
   "name": "python3"
  },
  "language_info": {
   "codemirror_mode": {
    "name": "ipython",
    "version": 3
   },
   "file_extension": ".py",
   "mimetype": "text/x-python",
   "name": "python",
   "nbconvert_exporter": "python",
   "pygments_lexer": "ipython3",
   "version": "3.8.8"
  }
 },
 "nbformat": 4,
 "nbformat_minor": 2
}
