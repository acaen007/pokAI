{
 "cells": [
  {
   "cell_type": "code",
   "execution_count": 1,
   "metadata": {},
   "outputs": [],
   "source": [
    "import numpy as np"
   ]
  },
  {
   "cell_type": "markdown",
   "metadata": {},
   "source": [
    "# Value Loss"
   ]
  },
  {
   "cell_type": "code",
   "execution_count": 2,
   "metadata": {},
   "outputs": [],
   "source": [
    "def r_gamma(rewards: np.array, gamma):\n",
    "    r_gamma = 0\n",
    "    for reward in rewards[:0:-1]:  # Slicing to reverse except the first element\n",
    "        r_gamma = gamma * (r_gamma + reward)\n",
    "        print(reward)\n",
    "    r_gamma += rewards[0]\n",
    "    return r_gamma\n",
    "\n",
    "def value_function(state): #TODO: implement this\n",
    "    return 0\n",
    "\n",
    "def v_loss(r_gamma, state, deltas):\n",
    "    return (np.clip(r_gamma, -deltas[1], deltas[2])-value_function(state))**2"
   ]
  },
  {
   "cell_type": "markdown",
   "metadata": {},
   "source": [
    "# Policy Loss"
   ]
  },
  {
   "cell_type": "code",
   "execution_count": 3,
   "metadata": {},
   "outputs": [],
   "source": [
    "def policy(state):\n",
    "    if state == 'Preflop':\n",
    "        # return np.array([0.5, 0.5, 0, 0, 0])\n",
    "        return np.array([0, 1, 0, 0, 0])\n",
    "    elif state == 'Flop':\n",
    "        # return np.array([0, 0.5, 0.5, 0, 0])\n",
    "        return np.array([0, 0, 1, 0, 0])\n",
    "    elif state == 'Turn':\n",
    "        # return np.array([0, 0, 1/3, 1/3, 1/3])\n",
    "        return np.array([0, 0, 0, 1, 0])\n",
    "    elif state == 'River':\n",
    "        # return np.array([0, 1/2, 1/2, 0, 0])\n",
    "        return np.array([0, 0, 1, 0, 0])\n",
    "    return 0\n",
    "\n",
    "def ratio(old_policy, new_policy, action, state):\n",
    "    return new_policy(state)[action] / old_policy(state)[action]\n",
    "\n",
    "def a_gae(results, states, value_function: callable, gamma, lambda_): #This is the advantage function\n",
    "    def a_k(k):\n",
    "        a_k = - value_function(states[0]) # First state of the hand\n",
    "        print(k, results)\n",
    "        for i in range(k):\n",
    "            a_k += gamma**(i) * results[i]\n",
    "        a_k += gamma**(k) * value_function(states[k])\n",
    "        return a_k\n",
    "    \n",
    "    results = results[:-1] # We don't need the last result, we'll use the value function\n",
    "    a_ks = [lambda_**(k_minus_one) * a_k(k_minus_one+1) for k_minus_one in range(len(results)-1)]\n",
    "    return (1 - lambda_) * np.sum(a_ks)\n",
    "    \n",
    "def tc_loss_function(ratio, advantage, epsilon, deltas): #We compute this for every hand and then average it\n",
    "    return np.clip(ratio, np.clip(ratio, 1 - epsilon, 1 + epsilon), deltas[0]) * advantage\n",
    "    "
   ]
  },
  {
   "cell_type": "code",
   "execution_count": 4,
   "metadata": {},
   "outputs": [],
   "source": [
    "def get_action(policy: callable, state):\n",
    "    return np.random.choice(len(policy(state)), p=policy(state))"
   ]
  },
  {
   "cell_type": "code",
   "execution_count": 5,
   "metadata": {},
   "outputs": [
    {
     "name": "stdout",
     "output_type": "stream",
     "text": [
      "320\n",
      "-100\n",
      "0\n",
      "-40\n",
      "159.06161882032\n",
      "320\n",
      "-100\n",
      "0\n",
      "-40\n",
      "25300.598581740778\n"
     ]
    }
   ],
   "source": [
    "rewards = np.array([-20, -40, 0, -100, 320])\n",
    "deltas = [3, 160, 160]\n",
    "print(r_gamma(rewards, 0.999))\n",
    "print(v_loss(r_gamma(rewards, 0.999), 0, deltas))"
   ]
  },
  {
   "cell_type": "code",
   "execution_count": 6,
   "metadata": {},
   "outputs": [
    {
     "name": "stdout",
     "output_type": "stream",
     "text": [
      "['Preflop', 'Flop', 'Turn', 'River', 'Showdown']\n",
      "1 [-20, -20, -80, 0]\n",
      "2 [-20, -20, -80, 0]\n",
      "3 [-20, -20, -80, 0]\n",
      "Advantage:  -1.7701586040800017\n",
      "240\n",
      "0\n",
      "-80\n",
      "-20\n",
      "['Flop', 'Turn', 'River', 'Showdown']\n",
      "1 [-20, -80, 0]\n",
      "2 [-20, -80, 0]\n",
      "Advantage:  -1.1892080000000012\n",
      "240\n",
      "0\n",
      "-80\n",
      "['Turn', 'River', 'Showdown']\n",
      "1 [-80, 0]\n",
      "Advantage:  -0.8000000000000007\n",
      "240\n",
      "0\n",
      "['River', 'Showdown']\n",
      "Advantage:  0.0\n",
      "240\n",
      "TC loss:  -0.939841651020001\n",
      "Value loss:  3300.0\n"
     ]
    }
   ],
   "source": [
    "states = ['Preflop', 'Flop', 'Turn', 'River', 'Showdown']\n",
    "rewards = [-20, -20, -80, 0, 240] #There should be one more reward than states\n",
    "deltas = [3, 120, 120]\n",
    "tc_loss = 0\n",
    "value_loss = 0\n",
    "delta2 = 0\n",
    "delta3 = 10  #Refine this\n",
    "\n",
    "states_without_showdown = states[:-1]\n",
    "for i, state in enumerate(states_without_showdown):\n",
    "    print(states[i:])\n",
    "    rewards_from_now = rewards[i:]\n",
    "    states_from_now = states[i:]\n",
    "    advantage = a_gae(rewards_from_now, states_from_now, value_function, 0.999, 0.99) #I'm not sure if this is correct\n",
    "    print('Advantage: ', advantage)\n",
    "    action = get_action(policy, state)\n",
    "    old_policy = policy\n",
    "    new_policy = policy\n",
    "    r = ratio(old_policy, new_policy, action, state)\n",
    "    delta2 -= rewards[i]\n",
    "    if i > 1:\n",
    "        delta3 -= rewards[i-1]\n",
    "    deltas = [3, delta2, delta3]\n",
    "    tc_loss += tc_loss_function(r, advantage, 0.2, deltas)\n",
    "    value_loss += v_loss(r_gamma(rewards_from_now, 0.999), 0, deltas)\n",
    "\n",
    "tc_loss /= len(states_without_showdown)\n",
    "value_loss /= len(states_without_showdown)\n",
    "print('TC loss: ', tc_loss)\n",
    "print('Value loss: ', value_loss)\n"
   ]
  },
  {
   "cell_type": "code",
   "execution_count": null,
   "metadata": {},
   "outputs": [],
   "source": []
  }
 ],
 "metadata": {
  "kernelspec": {
   "display_name": "env",
   "language": "python",
   "name": "python3"
  },
  "language_info": {
   "codemirror_mode": {
    "name": "ipython",
    "version": 3
   },
   "file_extension": ".py",
   "mimetype": "text/x-python",
   "name": "python",
   "nbconvert_exporter": "python",
   "pygments_lexer": "ipython3",
   "version": "3.11.5"
  }
 },
 "nbformat": 4,
 "nbformat_minor": 2
}
