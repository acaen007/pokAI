{
 "cells": [
  {
   "cell_type": "code",
   "execution_count": 3,
   "metadata": {},
   "outputs": [],
   "source": [
    "import numpy as np"
   ]
  },
  {
   "cell_type": "markdown",
   "metadata": {},
   "source": [
    "# Value Loss"
   ]
  },
  {
   "cell_type": "code",
   "execution_count": 20,
   "metadata": {},
   "outputs": [],
   "source": [
    "def r_gamma(rewards: np.array, gamma):\n",
    "    r_gamma = 0\n",
    "    for result in rewards[:0:-1]:  # Slicing to reverse except the first element\n",
    "        r_gamma = gamma * (r_gamma + result)\n",
    "        print(result)\n",
    "    r_gamma += rewards[0]\n",
    "    return r_gamma\n",
    "\n",
    "def value_function(state): #TODO: implement this\n",
    "    return 0\n",
    "\n",
    "def value_loss(r_gamma, state, deltas):\n",
    "    return (np.clip(r_gamma, -deltas[1], deltas[2])-value_function(state))**2"
   ]
  },
  {
   "cell_type": "markdown",
   "metadata": {},
   "source": [
    "# Policy Loss"
   ]
  },
  {
   "cell_type": "code",
   "execution_count": null,
   "metadata": {},
   "outputs": [],
   "source": [
    "def ratio(old_policy, new_policy, action, state):\n",
    "    return new_policy(action, state) / old_policy(action, state)\n",
    "\n",
    "def a_gae(results, states, value_function: callable, gamma, lambda_):\n",
    "    def a_k(k):\n",
    "        a_k = - value_function(states[0]) # First state of the hand\n",
    "        for i in range(k):\n",
    "            a_k += gamma**(i) * results[i]\n",
    "        a_k += gamma**(k) * value_function(states[k])\n",
    "        return a_k\n",
    "    a_ks = [lambda_**(k_minus_one) * a_k(k_minus_one+1) for k_minus_one in range(len(results)-2)]\n",
    "    return (1 - lambda_) * np.sum(a_ks)\n",
    "    \n",
    "def tc_loss_function(ratio, advantage, epsilon, deltas): #We compute this for every hand and then average it\n",
    "    return np.clip(ratio, np.clip(ratio, 1 - epsilon, 1 + epsilon), deltas[1]) * advantage\n",
    "    "
   ]
  },
  {
   "cell_type": "code",
   "execution_count": 21,
   "metadata": {},
   "outputs": [
    {
     "name": "stdout",
     "output_type": "stream",
     "text": [
      "320\n",
      "-100\n",
      "0\n",
      "-40\n",
      "159.06161882032\n",
      "320\n",
      "-100\n",
      "0\n",
      "-40\n",
      "25300.598581740778\n"
     ]
    }
   ],
   "source": [
    "rewards = np.array([-20, -40, 0, -100, 320])\n",
    "deltas = [1, 160, 160]\n",
    "print(r_gamma(rewards, 0.999))\n",
    "print(value_loss(r_gamma(rewards, 0.999), 0, deltas))"
   ]
  }
 ],
 "metadata": {
  "kernelspec": {
   "display_name": "env",
   "language": "python",
   "name": "python3"
  },
  "language_info": {
   "codemirror_mode": {
    "name": "ipython",
    "version": 3
   },
   "file_extension": ".py",
   "mimetype": "text/x-python",
   "name": "python",
   "nbconvert_exporter": "python",
   "pygments_lexer": "ipython3",
   "version": "3.11.5"
  }
 },
 "nbformat": 4,
 "nbformat_minor": 2
}
